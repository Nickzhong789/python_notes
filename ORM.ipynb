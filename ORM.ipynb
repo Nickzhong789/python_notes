{
 "cells": [
  {
   "cell_type": "code",
   "execution_count": 3,
   "metadata": {},
   "outputs": [],
   "source": [
    "class Field(object):\n",
    "    def __init__(self, name, column_type):\n",
    "        self._name = name\n",
    "        self._column_type = column_type\n",
    "        \n",
    "    def __str__(self):\n",
    "        return '<%s: %s>' % (self.__class__.__name__, self._name)"
   ]
  },
  {
   "cell_type": "code",
   "execution_count": 4,
   "metadata": {},
   "outputs": [],
   "source": [
    "class StringField(Field):\n",
    "    def __init__(self, name):\n",
    "        super(StringField, self).__init__(name, 'varchar(100)')\n",
    "\n",
    "class IntegerField(Field):\n",
    "    def __init__(self, name):\n",
    "        super(IntegerField, self).__init__(name, 'bigint')"
   ]
  },
  {
   "cell_type": "code",
   "execution_count": 5,
   "metadata": {},
   "outputs": [],
   "source": [
    "class ModelMetaClass(type):\n",
    "    def __new__(cls, name, bases, attrs):\n",
    "        if name == 'Model':\n",
    "            return type.__new__(cls, name, bases, attrs)\n",
    "        \n",
    "        print('Found model: %s' % name)\n",
    "        mappings = dict()\n",
    "        for k, v in attrs.items():\n",
    "            if isinstance(v, Field):\n",
    "                print('Found mapping: %s ===> %s' % (k, v))\n",
    "        for k in mappings.keys():\n",
    "            attrs.pop(k)\n",
    "        attrs['__mappings__'] = mappings\n",
    "        attrs['__table__'] = name\n",
    "        return type.__new__(cls, name, bases, attrs)"
   ]
  },
  {
   "cell_type": "code",
   "execution_count": null,
   "metadata": {},
   "outputs": [],
   "source": [
    "class Model(dict, metaclass=ModelMetaClass):\n",
    "    def __init__(self, **kw):\n",
    "        super(Model, self).__init__(**kw)\n",
    "        "
   ]
  },
  {
   "cell_type": "code",
   "execution_count": 8,
   "metadata": {},
   "outputs": [
    {
     "name": "stdout",
     "output_type": "stream",
     "text": [
      "arg 1: 12\n",
      "arg2: A\n",
      "the 0 in arg3 is: GF\n",
      "the 1 in arg3 is: SX\n"
     ]
    }
   ],
   "source": [
    "# *args and **kw\n",
    "def tupleArgs(arg1, arg2='B', *arg3):  # *args：表示就是将实参中按照位置传值，多余的值都给args，且以元组的方式呈现\n",
    "    print('arg 1: %s' % arg1)\n",
    "    print('arg2: %s' % arg2)\n",
    "    for eachArgNum in range(len(arg3)):\n",
    "        print('the %d in arg3 is: %s' % (eachArgNum, arg3[eachArgNum]))\n",
    "        \n",
    "tupleArgs('12', 'A', 'GF', 'SX')"
   ]
  },
  {
   "cell_type": "code",
   "execution_count": 10,
   "metadata": {},
   "outputs": [
    {
     "name": "stdout",
     "output_type": "stream",
     "text": [
      "kw1: kw\n",
      "kw2: B\n",
      "the c is: C\n",
      "the d is: 12121212\n",
      "the kw is: KW\n"
     ]
    }
   ],
   "source": [
    "def dictArgs(kw1, kw2='B', **kw3):  # **kw：表示就是形参中按照关键字传值，多余的值都给kw，且以字典*的方式呈现\n",
    "    print('kw1: %s' % kw1)\n",
    "    print('kw2: %s' % kw2)\n",
    "    for eachKw in kw3:\n",
    "        print('the %s is: %s' % (eachKw, kw3[eachKw]))\n",
    "\n",
    "dictArgs('kw',c = 'C',d = '12121212',kw = 'KW')"
   ]
  },
  {
   "cell_type": "code",
   "execution_count": 14,
   "metadata": {},
   "outputs": [
    {
     "name": "stdout",
     "output_type": "stream",
     "text": [
      "go A go!\n",
      "--------\n",
      "go A go!\n",
      "go B go!\n",
      "--------\n",
      "go A go!\n",
      "go C go!\n",
      "--------\n",
      "go A go!\n",
      "go C go!\n",
      "go B go!\n",
      "go D go!\n",
      "--------\n",
      "go A go!\n",
      "go C go!\n",
      "go B go!\n",
      "--------\n",
      "stop A go!\n",
      "--------\n",
      "stop A go!\n",
      "--------\n",
      "stop A go!\n",
      "stop C stop\n",
      "--------\n",
      "stop A go!\n",
      "stop C stop\n",
      "stop D stop!\n",
      "--------\n",
      "stop A go!\n",
      "stop C stop\n",
      "[<class '__main__.D'>, <class '__main__.B'>, <class '__main__.C'>, <class '__main__.A'>, <class 'object'>]\n"
     ]
    },
    {
     "ename": "Exception",
     "evalue": "Not Implemented",
     "output_type": "error",
     "traceback": [
      "\u001b[1;31m---------------------------------------------------------------------------\u001b[0m",
      "\u001b[1;31mException\u001b[0m                                 Traceback (most recent call last)",
      "\u001b[1;32m<ipython-input-14-b7999a6d8cb7>\u001b[0m in \u001b[0;36m<module>\u001b[1;34m\u001b[0m\n\u001b[0;32m     60\u001b[0m \u001b[0me\u001b[0m\u001b[1;33m.\u001b[0m\u001b[0mstop\u001b[0m\u001b[1;33m(\u001b[0m\u001b[1;33m)\u001b[0m\u001b[1;33m\u001b[0m\u001b[1;33m\u001b[0m\u001b[0m\n\u001b[0;32m     61\u001b[0m \u001b[0mprint\u001b[0m\u001b[1;33m(\u001b[0m\u001b[0mD\u001b[0m\u001b[1;33m.\u001b[0m\u001b[0mmro\u001b[0m\u001b[1;33m(\u001b[0m\u001b[1;33m)\u001b[0m\u001b[1;33m)\u001b[0m\u001b[1;33m\u001b[0m\u001b[1;33m\u001b[0m\u001b[0m\n\u001b[1;32m---> 62\u001b[1;33m \u001b[0ma\u001b[0m\u001b[1;33m.\u001b[0m\u001b[0mpause\u001b[0m\u001b[1;33m(\u001b[0m\u001b[1;33m)\u001b[0m\u001b[1;33m\u001b[0m\u001b[1;33m\u001b[0m\u001b[0m\n\u001b[0m\u001b[0;32m     63\u001b[0m \u001b[0mb\u001b[0m\u001b[1;33m.\u001b[0m\u001b[0mpause\u001b[0m\u001b[1;33m(\u001b[0m\u001b[1;33m)\u001b[0m\u001b[1;33m\u001b[0m\u001b[1;33m\u001b[0m\u001b[0m\n\u001b[0;32m     64\u001b[0m \u001b[0mc\u001b[0m\u001b[1;33m.\u001b[0m\u001b[0mpause\u001b[0m\u001b[1;33m(\u001b[0m\u001b[1;33m)\u001b[0m\u001b[1;33m\u001b[0m\u001b[1;33m\u001b[0m\u001b[0m\n",
      "\u001b[1;32m<ipython-input-14-b7999a6d8cb7>\u001b[0m in \u001b[0;36mpause\u001b[1;34m(self)\u001b[0m\n\u001b[0;32m      6\u001b[0m         \u001b[0mprint\u001b[0m\u001b[1;33m(\u001b[0m\u001b[1;34m'stop A go!'\u001b[0m\u001b[1;33m)\u001b[0m\u001b[1;33m\u001b[0m\u001b[1;33m\u001b[0m\u001b[0m\n\u001b[0;32m      7\u001b[0m     \u001b[1;32mdef\u001b[0m \u001b[0mpause\u001b[0m\u001b[1;33m(\u001b[0m\u001b[0mself\u001b[0m\u001b[1;33m)\u001b[0m\u001b[1;33m:\u001b[0m\u001b[1;33m\u001b[0m\u001b[1;33m\u001b[0m\u001b[0m\n\u001b[1;32m----> 8\u001b[1;33m         \u001b[1;32mraise\u001b[0m \u001b[0mException\u001b[0m\u001b[1;33m(\u001b[0m\u001b[1;34m'Not Implemented'\u001b[0m\u001b[1;33m)\u001b[0m\u001b[1;33m\u001b[0m\u001b[1;33m\u001b[0m\u001b[0m\n\u001b[0m\u001b[0;32m      9\u001b[0m \u001b[1;33m\u001b[0m\u001b[0m\n\u001b[0;32m     10\u001b[0m \u001b[1;32mclass\u001b[0m \u001b[0mB\u001b[0m\u001b[1;33m(\u001b[0m\u001b[0mA\u001b[0m\u001b[1;33m)\u001b[0m\u001b[1;33m:\u001b[0m\u001b[1;33m\u001b[0m\u001b[1;33m\u001b[0m\u001b[0m\n",
      "\u001b[1;31mException\u001b[0m: Not Implemented"
     ]
    }
   ],
   "source": [
    "# Super\n",
    "class A():\n",
    "    def go(self):\n",
    "        print('go A go!')\n",
    "    def stop(self):\n",
    "        print('stop A go!')\n",
    "    def pause(self):\n",
    "        raise Exception('Not Implemented')\n",
    "\n",
    "class B(A):\n",
    "    def go(self):\n",
    "        super(B, self).go()\n",
    "        print('go B go!')\n",
    "\n",
    "class C(A):\n",
    "    def go(self):\n",
    "        super(C, self).go()\n",
    "        print('go C go!')\n",
    "    def stop(self):\n",
    "        super(C, self).stop()\n",
    "        print('stop C stop')\n",
    "\n",
    "class D(B, C):\n",
    "    def go(self):\n",
    "        super(D, self).go()\n",
    "        print('go D go!')\n",
    "    def stop(self):\n",
    "        super(D, self).stop()\n",
    "        print('stop D stop!')\n",
    "    def pause(self):\n",
    "        print('wait D wait!')\n",
    "        \n",
    "class E(B, C):\n",
    "    pass\n",
    "\n",
    "a = A()\n",
    "b = B()\n",
    "c = C()\n",
    "d = D()\n",
    "e = E()\n",
    "\n",
    "a.go()\n",
    "print('--------')\n",
    "b.go()\n",
    "print('--------')\n",
    "c.go()\n",
    "print('--------')\n",
    "d.go()\n",
    "print('--------')\n",
    "e.go()\n",
    "print('--------')\n",
    "a.stop()\n",
    "print('--------')\n",
    "b.stop()\n",
    "print('--------')\n",
    "c.stop()\n",
    "print('--------')\n",
    "d.stop()\n",
    "print('--------')\n",
    "e.stop()\n",
    "print(D.mro())\n",
    "a.pause()\n",
    "b.pause()\n",
    "c.pause()\n",
    "d.pause()\n",
    "e.pause()"
   ]
  },
  {
   "cell_type": "code",
   "execution_count": null,
   "metadata": {},
   "outputs": [],
   "source": []
  }
 ],
 "metadata": {
  "kernelspec": {
   "display_name": "Python 3",
   "language": "python",
   "name": "python3"
  },
  "language_info": {
   "codemirror_mode": {
    "name": "ipython",
    "version": 3
   },
   "file_extension": ".py",
   "mimetype": "text/x-python",
   "name": "python",
   "nbconvert_exporter": "python",
   "pygments_lexer": "ipython3",
   "version": "3.6.8"
  }
 },
 "nbformat": 4,
 "nbformat_minor": 2
}
